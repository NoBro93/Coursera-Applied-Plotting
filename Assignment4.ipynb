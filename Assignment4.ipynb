{
 "cells": [
  {
   "cell_type": "markdown",
   "metadata": {},
   "source": [
    "# Assignment 4\n",
    "\n",
    "Before working on this assignment please read these instructions fully. In the submission area, you will notice that you can click the link to **Preview the Grading** for each step of the assignment. This is the criteria that will be used for peer grading. Please familiarize yourself with the criteria before beginning the assignment.\n",
    "\n",
    "This assignment requires that you to find **at least** two datasets on the web which are related, and that you visualize these datasets to answer a question with the broad topic of **weather phenomena** (see below) for the region of **Ann Arbor, Michigan, United States**, or **United States** more broadly.\n",
    "\n",
    "You can merge these datasets with data from different regions if you like! For instance, you might want to compare **Ann Arbor, Michigan, United States** to Ann Arbor, USA. In that case at least one source file must be about **Ann Arbor, Michigan, United States**.\n",
    "\n",
    "You are welcome to choose datasets at your discretion, but keep in mind **they will be shared with your peers**, so choose appropriate datasets. Sensitive, confidential, illicit, and proprietary materials are not good choices for datasets for this assignment. You are welcome to upload datasets of your own as well, and link to them using a third party repository such as github, bitbucket, pastebin, etc. Please be aware of the Coursera terms of service with respect to intellectual property.\n",
    "\n",
    "Also, you are welcome to preserve data in its original language, but for the purposes of grading you should provide english translations. You are welcome to provide multiple visuals in different languages if you would like!\n",
    "\n",
    "As this assignment is for the whole course, you must incorporate principles discussed in the first week, such as having as high data-ink ratio (Tufte) and aligning with Cairo’s principles of truth, beauty, function, and insight.\n",
    "\n",
    "Here are the assignment instructions:\n",
    "\n",
    " * State the region and the domain category that your data sets are about (e.g., **Ann Arbor, Michigan, United States** and **weather phenomena**).\n",
    " * You must state a question about the domain category and region that you identified as being interesting.\n",
    " * You must provide at least two links to available datasets. These could be links to files such as CSV or Excel files, or links to websites which might have data in tabular form, such as Wikipedia pages.\n",
    " * You must upload an image which addresses the research question you stated. In addition to addressing the question, this visual should follow Cairo's principles of truthfulness, functionality, beauty, and insightfulness.\n",
    " * You must contribute a short (1-2 paragraph) written justification of how your visualization addresses your stated research question.\n",
    "\n",
    "What do we mean by **weather phenomena**?  For this category you might want to consider seasonal changes, natural disasters, or historical trends.\n",
    "\n",
    "## Tips\n",
    "* Wikipedia is an excellent source of data, and I strongly encourage you to explore it for new data sources.\n",
    "* Many governments run open data initiatives at the city, region, and country levels, and these are wonderful resources for localized data sources.\n",
    "* Several international agencies, such as the [United Nations](http://data.un.org/), the [World Bank](http://data.worldbank.org/), the [Global Open Data Index](http://index.okfn.org/place/) are other great places to look for data.\n",
    "* This assignment requires you to convert and clean datafiles. Check out the discussion forums for tips on how to do this from various sources, and share your successes with your fellow students!\n",
    "\n",
    "## Example\n",
    "Looking for an example? Here's what our course assistant put together for the **Ann Arbor, MI, USA** area using **sports and athletics** as the topic. [Example Solution File](./readonly/Assignment4_example.pdf)"
   ]
  },
  {
   "cell_type": "markdown",
   "metadata": {
    "collapsed": true
   },
   "source": [
    "# 1. Topic: NYC Weather\n",
    "# 2. Question: How have temperature and precipitation changed over time?\n",
    "# 3. link to datasets - TODO \n",
    "    ftp://ftp.ncdc.noaa.gov/pub/data/ushcn/v2.5 - precipitation data \n",
    "    Peterson, T.C., and R.S. Vose, 1997: An overview of the Global \n",
    "            Historical Climatology Network temperature database. Bulletin of \n",
    "            the American Meteorological Society, 78 (12), 2837-2849\n",
    "\tftp://ftp.ncdc.noaa.gov/pub/data/ghcn/v3/csv/ - temperature data from ghcnm.tavg.v3.3.0.20170710.qcu.dat.csv\n",
    "    J. H. Lawrimore, M. J. Menne, B. E. Gleason, C. N. Williams, \n",
    "            D. B. Wuertz, R. S. Vose, and J. Rennie (2011), An overview of the\n",
    "            Global Historical Climatology Network monthly mean temperature data\n",
    "            set, version 3, J. Geophys. Res., 116, D19121, \n",
    "            doi:10.1029/2011JD016187. \n",
    "\n",
    "    Ann Arbor = 42500200230, Central Park = 42500305801\n",
    "# 4. TODO Image with truthfulness, functionality, beauty, insightfulness\n"
   ]
  },
  {
   "cell_type": "code",
   "execution_count": null,
   "metadata": {},
   "outputs": [],
   "source": [
    "%matplotlib notebook\n",
    "\n",
    "import pandas as pd\n",
    "import numpy as np\n",
    "import calendar\n",
    "import re\n",
    "import matplotlib.pyplot as plt"
   ]
  },
  {
   "cell_type": "code",
   "execution_count": 88,
   "metadata": {},
   "outputs": [],
   "source": [
    "def get_nyctemp():\n",
    "    NYC = 42500305801 #data ID for Central Park observations\n",
    "    cols = [0,1] + [i for i in range(1, 51) if i%4==3 ]\n",
    "    df = pd.read_csv('ghcnm.tavg.v3.3.0.20170710.qcu.dat.csv', header=None, usecols = cols)\n",
    "    df.columns = ['ID', 'Year'] + list(calendar.month_abbr[1:])\n",
    "    df = df[df['ID']==NYC]\n",
    "    del df['ID']\n",
    "    df.set_index('Year', inplace=True)\n",
    "    df.replace(-9999, np.NaN, inplace=True)\n",
    "    df /= 100/1.8\n",
    "    df += 32\n",
    "    #df.to_csv('cleaned_nyc_avgmtemp.csv')\n",
    "    return df"
   ]
  }
 ],
 "metadata": {
  "kernelspec": {
   "display_name": "Python 2",
   "language": "python",
   "name": "python2"
  },
  "language_info": {
   "codemirror_mode": {
    "name": "ipython",
    "version": 2
   },
   "file_extension": ".py",
   "mimetype": "text/x-python",
   "name": "python",
   "nbconvert_exporter": "python",
   "pygments_lexer": "ipython2",
   "version": "2.7.9"
  }
 },
 "nbformat": 4,
 "nbformat_minor": 1
}
